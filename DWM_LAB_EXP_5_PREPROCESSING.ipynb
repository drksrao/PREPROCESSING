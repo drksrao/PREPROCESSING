{
  "nbformat": 4,
  "nbformat_minor": 0,
  "metadata": {
    "colab": {
      "provenance": [],
      "collapsed_sections": [],
      "include_colab_link": true
    },
    "kernelspec": {
      "name": "python3",
      "display_name": "Python 3"
    },
    "language_info": {
      "name": "python"
    }
  },
  "cells": [
    {
      "cell_type": "markdown",
      "metadata": {
        "id": "view-in-github",
        "colab_type": "text"
      },
      "source": [
        "<a href=\"https://colab.research.google.com/github/drksrao/PREPROCESSING/blob/main/DWM_LAB_EXP_5_PREPROCESSING.ipynb\" target=\"_parent\"><img src=\"https://colab.research.google.com/assets/colab-badge.svg\" alt=\"Open In Colab\"/></a>"
      ]
    },
    {
      "cell_type": "code",
      "source": [
        "from google.colab import drive\n",
        "drive.mount('/content/drive')"
      ],
      "metadata": {
        "colab": {
          "base_uri": "https://localhost:8080/"
        },
        "id": "1cKRN8dhWSFz",
        "outputId": "1e4679a7-6d48-4bab-a3ce-b01dd78151f5"
      },
      "execution_count": null,
      "outputs": [
        {
          "output_type": "stream",
          "name": "stdout",
          "text": [
            "Mounted at /content/drive\n"
          ]
        }
      ]
    },
    {
      "cell_type": "code",
      "source": [
        "#Importing libraries\n",
        "import pandas as pd\n",
        "import numpy as np\n",
        "\n",
        "#Importing dataset\n",
        "df = pd.read_csv(\"/content/drive/MyDrive/data.csv\")\n",
        "print(df)"
      ],
      "metadata": {
        "colab": {
          "base_uri": "https://localhost:8080/"
        },
        "id": "ss7EAn12ZgFR",
        "outputId": "f7a4776e-341d-4ae8-bfa1-ee3e79c99904"
      },
      "execution_count": null,
      "outputs": [
        {
          "output_type": "stream",
          "name": "stdout",
          "text": [
            "    Country   Age   Salary Purchased\n",
            "0    France  44.0  72000.0        No\n",
            "1     Spain  27.0  48000.0       Yes\n",
            "2   Germany  30.0  54000.0        No\n",
            "3     Spain  38.0  61000.0        No\n",
            "4   Germany  40.0      NaN       Yes\n",
            "5    France  35.0  58000.0       Yes\n",
            "6     Spain   NaN  52000.0        No\n",
            "7    France  48.0  79000.0       Yes\n",
            "8   Germany  50.0  83000.0        No\n",
            "9    France  37.0  67000.0       Yes\n",
            "10   France  37.0  67000.0       Yes\n"
          ]
        }
      ]
    },
    {
      "cell_type": "code",
      "source": [
        "#OBTAIN DEPENDENT AND INDEPENDANT VARIABLES\n",
        "X = df.iloc[:,[0,1,2]].values# INDEPENDENT VAR\n",
        "y = df.iloc[:,3].values # DEPENDENT VAR\n",
        "print(X)\n",
        "print(y)"
      ],
      "metadata": {
        "colab": {
          "base_uri": "https://localhost:8080/"
        },
        "id": "tqjzxvypZxrS",
        "outputId": "49a3490b-65dd-4e5e-9a48-447303ea72a4"
      },
      "execution_count": null,
      "outputs": [
        {
          "output_type": "stream",
          "name": "stdout",
          "text": [
            "[['France' 44.0 72000.0]\n",
            " ['Spain' 27.0 48000.0]\n",
            " ['Germany' 30.0 54000.0]\n",
            " ['Spain' 38.0 61000.0]\n",
            " ['Germany' 40.0 nan]\n",
            " ['France' 35.0 58000.0]\n",
            " ['Spain' nan 52000.0]\n",
            " ['France' 48.0 79000.0]\n",
            " ['Germany' 50.0 83000.0]\n",
            " ['France' 37.0 67000.0]\n",
            " ['France' 37.0 67000.0]]\n",
            "['No' 'Yes' 'No' 'No' 'Yes' 'Yes' 'No' 'Yes' 'No' 'Yes' 'Yes']\n"
          ]
        }
      ]
    },
    {
      "cell_type": "code",
      "source": [
        "from sklearn.impute import SimpleImputer\n",
        "imputer = SimpleImputer(missing_values=np.nan,strategy=\"mean\")\n",
        "imputer.fit(X[:,1:3])\n",
        "X[:,1:3] = imputer.transform(X[:,1:3])\n",
        "print(X)"
      ],
      "metadata": {
        "colab": {
          "base_uri": "https://localhost:8080/"
        },
        "id": "j1c7c3KWZzNq",
        "outputId": "3f3d784d-a7e2-4a5c-fd60-eb5499ef6a20"
      },
      "execution_count": null,
      "outputs": [
        {
          "output_type": "stream",
          "name": "stdout",
          "text": [
            "[['France' 44.0 72000.0]\n",
            " ['Spain' 27.0 48000.0]\n",
            " ['Germany' 30.0 54000.0]\n",
            " ['Spain' 38.0 61000.0]\n",
            " ['Germany' 40.0 64100.0]\n",
            " ['France' 35.0 58000.0]\n",
            " ['Spain' 38.6 52000.0]\n",
            " ['France' 48.0 79000.0]\n",
            " ['Germany' 50.0 83000.0]\n",
            " ['France' 37.0 67000.0]\n",
            " ['France' 37.0 67000.0]]\n"
          ]
        }
      ]
    },
    {
      "cell_type": "code",
      "source": [
        "from sklearn.compose import ColumnTransformer\n",
        "from sklearn.preprocessing import OneHotEncoder\n",
        "ct = ColumnTransformer(transformers=[('encoder', OneHotEncoder(), [0])], remainder='passthrough')\n",
        "X = ct.fit_transform(X)\n",
        "X = np.array(X)\n",
        "print(X)"
      ],
      "metadata": {
        "colab": {
          "base_uri": "https://localhost:8080/"
        },
        "id": "MgTSyMGZZ2qO",
        "outputId": "68bc7e4c-2551-4239-b970-45101c1e839c"
      },
      "execution_count": null,
      "outputs": [
        {
          "output_type": "stream",
          "name": "stdout",
          "text": [
            "[[1.0 0.0 0.0 44.0 72000.0]\n",
            " [0.0 0.0 1.0 27.0 48000.0]\n",
            " [0.0 1.0 0.0 30.0 54000.0]\n",
            " [0.0 0.0 1.0 38.0 61000.0]\n",
            " [0.0 1.0 0.0 40.0 64100.0]\n",
            " [1.0 0.0 0.0 35.0 58000.0]\n",
            " [0.0 0.0 1.0 38.6 52000.0]\n",
            " [1.0 0.0 0.0 48.0 79000.0]\n",
            " [0.0 1.0 0.0 50.0 83000.0]\n",
            " [1.0 0.0 0.0 37.0 67000.0]\n",
            " [1.0 0.0 0.0 37.0 67000.0]]\n"
          ]
        }
      ]
    },
    {
      "cell_type": "code",
      "source": [
        "from sklearn.preprocessing import LabelEncoder\n",
        "le = LabelEncoder()\n",
        "y = le.fit_transform(y)\n",
        "print(y)"
      ],
      "metadata": {
        "colab": {
          "base_uri": "https://localhost:8080/"
        },
        "id": "YqTkD4kQZ62Y",
        "outputId": "0a2a2288-42ea-4c6e-a6f2-71351ada40f2"
      },
      "execution_count": null,
      "outputs": [
        {
          "output_type": "stream",
          "name": "stdout",
          "text": [
            "[0 1 0 0 1 1 0 1 0 1 1]\n"
          ]
        }
      ]
    },
    {
      "cell_type": "code",
      "source": [
        "#Let’s implement the same in Python.\n",
        "\n",
        "#Split data into train and test dataset\n",
        "from sklearn.model_selection import train_test_split\n",
        "X_train, X_test, y_train, y_test = train_test_split(X,y, test_size=0.2, random_state=0)\n",
        "print('X_train.shape: ', X_train.shape)\n",
        "print('X_test.shape: ', X_test.shape)\n",
        "print('y_train.shape: ', y_train.shape)\n",
        "print('y_test.shape: ', y_test.shape)"
      ],
      "metadata": {
        "colab": {
          "base_uri": "https://localhost:8080/"
        },
        "id": "Xc9UmOezZ-as",
        "outputId": "811cfc26-7e43-43ac-99c3-aac7951f0c7d"
      },
      "execution_count": null,
      "outputs": [
        {
          "output_type": "stream",
          "name": "stdout",
          "text": [
            "X_train.shape:  (8, 5)\n",
            "X_test.shape:  (3, 5)\n",
            "y_train.shape:  (8,)\n",
            "y_test.shape:  (3,)\n"
          ]
        }
      ]
    },
    {
      "cell_type": "code",
      "source": [
        "from sklearn.preprocessing import StandardScaler\n",
        "sc_X = StandardScaler()\n",
        "X_train = sc_X.fit_transform(X_train)\n",
        "X_test = sc_X.transform(X_test)\n",
        "print(X_train)\n",
        "print(X_test)"
      ],
      "metadata": {
        "colab": {
          "base_uri": "https://localhost:8080/"
        },
        "id": "683R8U6YaGr_",
        "outputId": "0d11ab66-79d1-4305-c43f-27a078f7cce6"
      },
      "execution_count": null,
      "outputs": [
        {
          "output_type": "stream",
          "name": "stdout",
          "text": [
            "[[ 1.         -0.37796447 -0.77459667 -0.38757755  0.17087153]\n",
            " [-1.         -0.37796447  1.29099445 -0.15790197 -1.11066496]\n",
            " [-1.         -0.37796447  1.29099445 -1.82304998 -1.45240802]\n",
            " [ 1.         -0.37796447 -0.77459667  1.19144211  1.19610072]\n",
            " [-1.          2.64575131 -0.77459667  1.4785366   1.53784378]\n",
            " [-1.         -0.37796447  1.29099445 -0.24403031 -0.34174306]\n",
            " [ 1.         -0.37796447 -0.77459667  0.61725314  0.59805036]\n",
            " [ 1.         -0.37796447 -0.77459667 -0.67467204 -0.59805036]]\n",
            "[[-1.          2.64575131 -0.77459667  0.04306417 -0.07689219]\n",
            " [ 1.         -0.37796447 -0.77459667 -0.38757755  0.17087153]\n",
            " [-1.          2.64575131 -0.77459667 -1.39240825 -0.93979342]]\n"
          ]
        }
      ]
    },
    {
      "cell_type": "code",
      "source": [
        "from sklearn.preprocessing import MinMaxScaler\n",
        "data = [[-1, 2], [-0.5, 6], [0, 10], [1, 18]]\n",
        "scaler = MinMaxScaler()\n",
        "print(scaler.fit(data))\n",
        "MinMaxScaler()\n",
        "print(scaler.data_max_)\n",
        "print(scaler.data_min_)"
      ],
      "metadata": {
        "id": "q64s92omIR5o",
        "colab": {
          "base_uri": "https://localhost:8080/"
        },
        "outputId": "8dbf9380-d7f4-4645-b1a9-812b9e146abf"
      },
      "execution_count": null,
      "outputs": [
        {
          "output_type": "stream",
          "name": "stdout",
          "text": [
            "MinMaxScaler()\n",
            "[ 1. 18.]\n",
            "[-1.  2.]\n"
          ]
        }
      ]
    },
    {
      "cell_type": "code",
      "source": [
        "MinMaxScaler()\n",
        "\n"
      ],
      "metadata": {
        "colab": {
          "base_uri": "https://localhost:8080/"
        },
        "id": "uQDz0-aR69zC",
        "outputId": "4659553e-76de-4ed1-81ca-da3de2473508"
      },
      "execution_count": null,
      "outputs": [
        {
          "output_type": "execute_result",
          "data": {
            "text/plain": [
              "MinMaxScaler()"
            ]
          },
          "metadata": {},
          "execution_count": 16
        }
      ]
    },
    {
      "cell_type": "code",
      "source": [
        "print(scaler.data_max_)\n"
      ],
      "metadata": {
        "colab": {
          "base_uri": "https://localhost:8080/"
        },
        "id": "OnEnArn47Qj1",
        "outputId": "3163f6d4-6c31-4e46-d325-49e68d76c128"
      },
      "execution_count": null,
      "outputs": [
        {
          "output_type": "stream",
          "name": "stdout",
          "text": [
            "[ 1. 18.]\n",
            "[[0.   0.  ]\n",
            " [0.25 0.25]\n",
            " [0.5  0.5 ]\n",
            " [1.   1.  ]]\n"
          ]
        }
      ]
    },
    {
      "cell_type": "code",
      "source": [
        "print(scaler.transform(data))"
      ],
      "metadata": {
        "colab": {
          "base_uri": "https://localhost:8080/"
        },
        "id": "ET2q-MnC8Kzt",
        "outputId": "3fb9e094-bef7-422a-b093-f40260c76478"
      },
      "execution_count": null,
      "outputs": [
        {
          "output_type": "stream",
          "name": "stdout",
          "text": [
            "[[0.   0.  ]\n",
            " [0.25 0.25]\n",
            " [0.5  0.5 ]\n",
            " [1.   1.  ]]\n"
          ]
        }
      ]
    },
    {
      "cell_type": "code",
      "source": [
        "print(scaler.transform([[2, 2]]))"
      ],
      "metadata": {
        "colab": {
          "base_uri": "https://localhost:8080/"
        },
        "id": "WHC6_GB-7OK3",
        "outputId": "e5acd59f-401c-4efe-d0f3-b40408c217db"
      },
      "execution_count": null,
      "outputs": [
        {
          "output_type": "stream",
          "name": "stdout",
          "text": [
            "[[1.5 0. ]]\n"
          ]
        }
      ]
    },
    {
      "cell_type": "code",
      "source": [
        "from sklearn.preprocessing import MinMaxScaler\n",
        "data = [1,8,34,67,89,678,543,234]\n",
        "data"
      ],
      "metadata": {
        "colab": {
          "base_uri": "https://localhost:8080/"
        },
        "id": "ua3ltnQS8aV6",
        "outputId": "aff1de37-db1a-4aea-ef0d-d7cada745449"
      },
      "execution_count": null,
      "outputs": [
        {
          "output_type": "execute_result",
          "data": {
            "text/plain": [
              "[1, 8, 34, 67, 89, 678, 543, 234]"
            ]
          },
          "metadata": {},
          "execution_count": 41
        }
      ]
    },
    {
      "cell_type": "code",
      "source": [
        "data1=np.array(data)\n",
        "data1\n"
      ],
      "metadata": {
        "colab": {
          "base_uri": "https://localhost:8080/"
        },
        "id": "334Rl-JU83lj",
        "outputId": "73fad295-c4b8-4a73-e3d4-d839050a33e4"
      },
      "execution_count": null,
      "outputs": [
        {
          "output_type": "execute_result",
          "data": {
            "text/plain": [
              "array([  1,   8,  34,  67,  89, 678, 543, 234])"
            ]
          },
          "metadata": {},
          "execution_count": 45
        }
      ]
    },
    {
      "cell_type": "code",
      "source": [
        "#data1.reshape(1,-1)"
      ],
      "metadata": {
        "colab": {
          "base_uri": "https://localhost:8080/"
        },
        "id": "_GNluMpS-Ik3",
        "outputId": "6052a36e-eef0-4852-d4e8-2f998939d965"
      },
      "execution_count": null,
      "outputs": [
        {
          "output_type": "execute_result",
          "data": {
            "text/plain": [
              "array([[  1,   8,  34,  67,  89, 678, 543, 234]])"
            ]
          },
          "metadata": {},
          "execution_count": 43
        }
      ]
    },
    {
      "cell_type": "code",
      "source": [
        "scaler = MinMaxScaler()\n",
        "scaler.fit_transform(data1)"
      ],
      "metadata": {
        "colab": {
          "base_uri": "https://localhost:8080/",
          "height": 381
        },
        "id": "NbkwdT5994a3",
        "outputId": "6e6cc097-9432-47f7-ba38-e4b2399ac3a3"
      },
      "execution_count": null,
      "outputs": [
        {
          "output_type": "error",
          "ename": "ValueError",
          "evalue": "ignored",
          "traceback": [
            "\u001b[0;31m---------------------------------------------------------------------------\u001b[0m",
            "\u001b[0;31mValueError\u001b[0m                                Traceback (most recent call last)",
            "\u001b[0;32m<ipython-input-46-00e3c057f744>\u001b[0m in \u001b[0;36m<module>\u001b[0;34m()\u001b[0m\n\u001b[1;32m      1\u001b[0m \u001b[0mscaler\u001b[0m \u001b[0;34m=\u001b[0m \u001b[0mMinMaxScaler\u001b[0m\u001b[0;34m(\u001b[0m\u001b[0;34m)\u001b[0m\u001b[0;34m\u001b[0m\u001b[0;34m\u001b[0m\u001b[0m\n\u001b[0;32m----> 2\u001b[0;31m \u001b[0mscaler\u001b[0m\u001b[0;34m.\u001b[0m\u001b[0mfit_transform\u001b[0m\u001b[0;34m(\u001b[0m\u001b[0mdata1\u001b[0m\u001b[0;34m)\u001b[0m\u001b[0;34m\u001b[0m\u001b[0;34m\u001b[0m\u001b[0m\n\u001b[0m",
            "\u001b[0;32m/usr/local/lib/python3.7/dist-packages/sklearn/base.py\u001b[0m in \u001b[0;36mfit_transform\u001b[0;34m(self, X, y, **fit_params)\u001b[0m\n\u001b[1;32m    850\u001b[0m         \u001b[0;32mif\u001b[0m \u001b[0my\u001b[0m \u001b[0;32mis\u001b[0m \u001b[0;32mNone\u001b[0m\u001b[0;34m:\u001b[0m\u001b[0;34m\u001b[0m\u001b[0;34m\u001b[0m\u001b[0m\n\u001b[1;32m    851\u001b[0m             \u001b[0;31m# fit method of arity 1 (unsupervised transformation)\u001b[0m\u001b[0;34m\u001b[0m\u001b[0;34m\u001b[0m\u001b[0;34m\u001b[0m\u001b[0m\n\u001b[0;32m--> 852\u001b[0;31m             \u001b[0;32mreturn\u001b[0m \u001b[0mself\u001b[0m\u001b[0;34m.\u001b[0m\u001b[0mfit\u001b[0m\u001b[0;34m(\u001b[0m\u001b[0mX\u001b[0m\u001b[0;34m,\u001b[0m \u001b[0;34m**\u001b[0m\u001b[0mfit_params\u001b[0m\u001b[0;34m)\u001b[0m\u001b[0;34m.\u001b[0m\u001b[0mtransform\u001b[0m\u001b[0;34m(\u001b[0m\u001b[0mX\u001b[0m\u001b[0;34m)\u001b[0m\u001b[0;34m\u001b[0m\u001b[0;34m\u001b[0m\u001b[0m\n\u001b[0m\u001b[1;32m    853\u001b[0m         \u001b[0;32melse\u001b[0m\u001b[0;34m:\u001b[0m\u001b[0;34m\u001b[0m\u001b[0;34m\u001b[0m\u001b[0m\n\u001b[1;32m    854\u001b[0m             \u001b[0;31m# fit method of arity 2 (supervised transformation)\u001b[0m\u001b[0;34m\u001b[0m\u001b[0;34m\u001b[0m\u001b[0;34m\u001b[0m\u001b[0m\n",
            "\u001b[0;32m/usr/local/lib/python3.7/dist-packages/sklearn/preprocessing/_data.py\u001b[0m in \u001b[0;36mfit\u001b[0;34m(self, X, y)\u001b[0m\n\u001b[1;32m    414\u001b[0m         \u001b[0;31m# Reset internal state before fitting\u001b[0m\u001b[0;34m\u001b[0m\u001b[0;34m\u001b[0m\u001b[0;34m\u001b[0m\u001b[0m\n\u001b[1;32m    415\u001b[0m         \u001b[0mself\u001b[0m\u001b[0;34m.\u001b[0m\u001b[0m_reset\u001b[0m\u001b[0;34m(\u001b[0m\u001b[0;34m)\u001b[0m\u001b[0;34m\u001b[0m\u001b[0;34m\u001b[0m\u001b[0m\n\u001b[0;32m--> 416\u001b[0;31m         \u001b[0;32mreturn\u001b[0m \u001b[0mself\u001b[0m\u001b[0;34m.\u001b[0m\u001b[0mpartial_fit\u001b[0m\u001b[0;34m(\u001b[0m\u001b[0mX\u001b[0m\u001b[0;34m,\u001b[0m \u001b[0my\u001b[0m\u001b[0;34m)\u001b[0m\u001b[0;34m\u001b[0m\u001b[0;34m\u001b[0m\u001b[0m\n\u001b[0m\u001b[1;32m    417\u001b[0m \u001b[0;34m\u001b[0m\u001b[0m\n\u001b[1;32m    418\u001b[0m     \u001b[0;32mdef\u001b[0m \u001b[0mpartial_fit\u001b[0m\u001b[0;34m(\u001b[0m\u001b[0mself\u001b[0m\u001b[0;34m,\u001b[0m \u001b[0mX\u001b[0m\u001b[0;34m,\u001b[0m \u001b[0my\u001b[0m\u001b[0;34m=\u001b[0m\u001b[0;32mNone\u001b[0m\u001b[0;34m)\u001b[0m\u001b[0;34m:\u001b[0m\u001b[0;34m\u001b[0m\u001b[0;34m\u001b[0m\u001b[0m\n",
            "\u001b[0;32m/usr/local/lib/python3.7/dist-packages/sklearn/preprocessing/_data.py\u001b[0m in \u001b[0;36mpartial_fit\u001b[0;34m(self, X, y)\u001b[0m\n\u001b[1;32m    456\u001b[0m             \u001b[0mestimator\u001b[0m\u001b[0;34m=\u001b[0m\u001b[0mself\u001b[0m\u001b[0;34m,\u001b[0m\u001b[0;34m\u001b[0m\u001b[0;34m\u001b[0m\u001b[0m\n\u001b[1;32m    457\u001b[0m             \u001b[0mdtype\u001b[0m\u001b[0;34m=\u001b[0m\u001b[0mFLOAT_DTYPES\u001b[0m\u001b[0;34m,\u001b[0m\u001b[0;34m\u001b[0m\u001b[0;34m\u001b[0m\u001b[0m\n\u001b[0;32m--> 458\u001b[0;31m             \u001b[0mforce_all_finite\u001b[0m\u001b[0;34m=\u001b[0m\u001b[0;34m\"allow-nan\"\u001b[0m\u001b[0;34m,\u001b[0m\u001b[0;34m\u001b[0m\u001b[0;34m\u001b[0m\u001b[0m\n\u001b[0m\u001b[1;32m    459\u001b[0m         )\n\u001b[1;32m    460\u001b[0m \u001b[0;34m\u001b[0m\u001b[0m\n",
            "\u001b[0;32m/usr/local/lib/python3.7/dist-packages/sklearn/base.py\u001b[0m in \u001b[0;36m_validate_data\u001b[0;34m(self, X, y, reset, validate_separately, **check_params)\u001b[0m\n\u001b[1;32m    564\u001b[0m             \u001b[0;32mraise\u001b[0m \u001b[0mValueError\u001b[0m\u001b[0;34m(\u001b[0m\u001b[0;34m\"Validation should be done on X, y or both.\"\u001b[0m\u001b[0;34m)\u001b[0m\u001b[0;34m\u001b[0m\u001b[0;34m\u001b[0m\u001b[0m\n\u001b[1;32m    565\u001b[0m         \u001b[0;32melif\u001b[0m \u001b[0;32mnot\u001b[0m \u001b[0mno_val_X\u001b[0m \u001b[0;32mand\u001b[0m \u001b[0mno_val_y\u001b[0m\u001b[0;34m:\u001b[0m\u001b[0;34m\u001b[0m\u001b[0;34m\u001b[0m\u001b[0m\n\u001b[0;32m--> 566\u001b[0;31m             \u001b[0mX\u001b[0m \u001b[0;34m=\u001b[0m \u001b[0mcheck_array\u001b[0m\u001b[0;34m(\u001b[0m\u001b[0mX\u001b[0m\u001b[0;34m,\u001b[0m \u001b[0;34m**\u001b[0m\u001b[0mcheck_params\u001b[0m\u001b[0;34m)\u001b[0m\u001b[0;34m\u001b[0m\u001b[0;34m\u001b[0m\u001b[0m\n\u001b[0m\u001b[1;32m    567\u001b[0m             \u001b[0mout\u001b[0m \u001b[0;34m=\u001b[0m \u001b[0mX\u001b[0m\u001b[0;34m\u001b[0m\u001b[0;34m\u001b[0m\u001b[0m\n\u001b[1;32m    568\u001b[0m         \u001b[0;32melif\u001b[0m \u001b[0mno_val_X\u001b[0m \u001b[0;32mand\u001b[0m \u001b[0;32mnot\u001b[0m \u001b[0mno_val_y\u001b[0m\u001b[0;34m:\u001b[0m\u001b[0;34m\u001b[0m\u001b[0;34m\u001b[0m\u001b[0m\n",
            "\u001b[0;32m/usr/local/lib/python3.7/dist-packages/sklearn/utils/validation.py\u001b[0m in \u001b[0;36mcheck_array\u001b[0;34m(array, accept_sparse, accept_large_sparse, dtype, order, copy, force_all_finite, ensure_2d, allow_nd, ensure_min_samples, ensure_min_features, estimator)\u001b[0m\n\u001b[1;32m    771\u001b[0m                     \u001b[0;34m\"Reshape your data either using array.reshape(-1, 1) if \"\u001b[0m\u001b[0;34m\u001b[0m\u001b[0;34m\u001b[0m\u001b[0m\n\u001b[1;32m    772\u001b[0m                     \u001b[0;34m\"your data has a single feature or array.reshape(1, -1) \"\u001b[0m\u001b[0;34m\u001b[0m\u001b[0;34m\u001b[0m\u001b[0m\n\u001b[0;32m--> 773\u001b[0;31m                     \u001b[0;34m\"if it contains a single sample.\"\u001b[0m\u001b[0;34m.\u001b[0m\u001b[0mformat\u001b[0m\u001b[0;34m(\u001b[0m\u001b[0marray\u001b[0m\u001b[0;34m)\u001b[0m\u001b[0;34m\u001b[0m\u001b[0;34m\u001b[0m\u001b[0m\n\u001b[0m\u001b[1;32m    774\u001b[0m                 )\n\u001b[1;32m    775\u001b[0m \u001b[0;34m\u001b[0m\u001b[0m\n",
            "\u001b[0;31mValueError\u001b[0m: Expected 2D array, got 1D array instead:\narray=[  1.   8.  34.  67.  89. 678. 543. 234.].\nReshape your data either using array.reshape(-1, 1) if your data has a single feature or array.reshape(1, -1) if it contains a single sample."
          ]
        }
      ]
    },
    {
      "cell_type": "code",
      "source": [
        "from numpy import asarray\n",
        "from sklearn.preprocessing import MinMaxScaler\n",
        "# define data\n",
        "data = asarray([[100, 0.0001],\n",
        "\t\t\t\t[8, 0.05],\n",
        "\t\t\t\t[50, 0.005],\n",
        "\t\t\t\t[88, 0.07],\n",
        "\t\t\t\t[4, 0.1]])\n",
        "print(data)\n",
        "# define min max scaler\n",
        "scaler = MinMaxScaler()\n",
        "# transform data\n",
        "scaled = scaler.fit_transform(data)\n",
        "print(scaled)"
      ],
      "metadata": {
        "colab": {
          "base_uri": "https://localhost:8080/"
        },
        "id": "Y8HBL8x9BD7m",
        "outputId": "08cd5d00-ceed-4be4-ed79-4a0e0b087fa6"
      },
      "execution_count": null,
      "outputs": [
        {
          "output_type": "stream",
          "name": "stdout",
          "text": [
            "[[1.0e+02 1.0e-04]\n",
            " [8.0e+00 5.0e-02]\n",
            " [5.0e+01 5.0e-03]\n",
            " [8.8e+01 7.0e-02]\n",
            " [4.0e+00 1.0e-01]]\n",
            "[[1.         0.        ]\n",
            " [0.04166667 0.4994995 ]\n",
            " [0.47916667 0.04904905]\n",
            " [0.875      0.6996997 ]\n",
            " [0.         1.        ]]\n"
          ]
        }
      ]
    },
    {
      "cell_type": "markdown",
      "source": [
        "![image.png](data:image/png;base64,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)"
      ],
      "metadata": {
        "id": "-9AQO2QWCPRM"
      }
    }
  ]
}